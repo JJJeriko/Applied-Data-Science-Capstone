{
 "cells": [
  {
   "cell_type": "markdown",
   "id": "6071e9d1-a346-43dd-99d9-6b4e8e1d6469",
   "metadata": {},
   "source": [
    "# My Jupyter Notebook on IBM Watson Studio"
   ]
  },
  {
   "cell_type": "markdown",
   "id": "ec1abb19-3e6c-4cc2-b667-27d68ec76efb",
   "metadata": {},
   "source": [
    "__Jeremy__ <br> Supervisor"
   ]
  },
  {
   "cell_type": "markdown",
   "id": "58e6ed3f-fe49-43a9-83a6-bbb8a251b00f",
   "metadata": {},
   "source": [
    "_I am interested in data science because I want to learn how to make informed business decisions based on actual data.  I want to learn how to use the data to support these business decisions and help improve overall business performance._"
   ]
  },
  {
   "cell_type": "markdown",
   "id": "f34129b0-76a1-4caf-8701-de7fe992e3b7",
   "metadata": {},
   "source": [
    "### The following simple code should calculate and display the result of 22 divided by 7."
   ]
  },
  {
   "cell_type": "code",
   "execution_count": 1,
   "id": "85835382-0b5a-4318-883f-a0767f0e1d31",
   "metadata": {},
   "outputs": [
    {
     "name": "stdout",
     "output_type": "stream",
     "text": [
      "3.142857142857143\n"
     ]
    }
   ],
   "source": [
    "print(22/7)"
   ]
  },
  {
   "cell_type": "markdown",
   "id": "5d091c05-2576-43a2-a3aa-730777a284a4",
   "metadata": {},
   "source": [
    "This cell contains: <br>\n",
    "* Bulleted items \n",
    "* a table (see below)\n",
    "* ~strike through~\n",
    "<br>\n",
    "\n",
    "| Column 1 | Column 2 | Column 3|\n",
    "| --- | --- | --- |\n",
    "| 1 | 1 | 3 |\n",
    "| 2 | 2 | 1 |\n",
    "| 3 | 2 | 1 |\n",
    "| 1 | 2 | 1 |\n",
    "\n"
   ]
  },
  {
   "cell_type": "code",
   "execution_count": null,
   "id": "4a961c7a-e17a-4abd-b312-5affef5bf6a4",
   "metadata": {},
   "outputs": [],
   "source": []
  }
 ],
 "metadata": {
  "kernelspec": {
   "display_name": "Python",
   "language": "python",
   "name": "conda-env-python-py"
  },
  "language_info": {
   "codemirror_mode": {
    "name": "ipython",
    "version": 3
   },
   "file_extension": ".py",
   "mimetype": "text/x-python",
   "name": "python",
   "nbconvert_exporter": "python",
   "pygments_lexer": "ipython3",
   "version": "3.7.12"
  }
 },
 "nbformat": 4,
 "nbformat_minor": 5
}
